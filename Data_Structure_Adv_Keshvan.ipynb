{
  "nbformat": 4,
  "nbformat_minor": 0,
  "metadata": {
    "colab": {
      "provenance": []
    },
    "kernelspec": {
      "name": "python3",
      "display_name": "Python 3"
    },
    "language_info": {
      "name": "python"
    }
  },
  "cells": [
    {
      "cell_type": "code",
      "execution_count": null,
      "metadata": {
        "colab": {
          "base_uri": "https://localhost:8080/"
        },
        "id": "9oHWLu1-9e6T",
        "outputId": "fd5139ea-43ab-417f-c0bd-6166b88ccb8f"
      },
      "outputs": [
        {
          "output_type": "stream",
          "name": "stdout",
          "text": [
            "Enter the word: Amazon\n",
            "The reversed word is: nozamA\n"
          ]
        }
      ],
      "source": [
        "# Q1. Write a code to reverse a string.\n",
        "\n",
        "def reverse_string(s):\n",
        "    # Start with an empty string to build the reversed version\n",
        "    reversed_str = \"\"\n",
        "\n",
        "    # Go through each character in the input string\n",
        "    for char in s:\n",
        "        # Add the current character to the front of the reversed string\n",
        "        reversed_str = char + reversed_str\n",
        "\n",
        "    # Return the final reversed string\n",
        "    return reversed_str\n",
        "\n",
        "# Ask the user to enter a word\n",
        "input_word = input(\"Enter the word: \")\n",
        "\n",
        "# Display the reversed word\n",
        "print(\"The reversed word is:\", reverse_string(input_word))\n"
      ]
    },
    {
      "cell_type": "code",
      "source": [
        "# Q2. Write a code to count the number of vowels in a string.\n",
        "\n",
        "# Define the vowels\n",
        "vowels = \"aeiouAEIOU\"\n",
        "\n",
        "# String to check for vowels\n",
        "sample_string = \"Netflix\"\n",
        "\n",
        "# List to store the vowels found in the string\n",
        "vowel_list = []\n",
        "\n",
        "# Iterate through each character in the string\n",
        "for character in sample_string:\n",
        "    # Check if the character is a vowel\n",
        "    if character in vowels:\n",
        "        # Add the vowel to the list\n",
        "        vowel_list.append(character)\n",
        "\n",
        "# Print the number of vowels found\n",
        "print(\"Vowels present =\", len(vowel_list))\n"
      ],
      "metadata": {
        "colab": {
          "base_uri": "https://localhost:8080/"
        },
        "id": "wrbcw8qN_mM5",
        "outputId": "fb257822-164f-4d91-de3c-154d7cfb0916"
      },
      "execution_count": null,
      "outputs": [
        {
          "output_type": "stream",
          "name": "stdout",
          "text": [
            "Vowels present = 2\n"
          ]
        }
      ]
    },
    {
      "cell_type": "code",
      "source": [
        "# Q3. Write a code to check if a given string is a palindrome or not.\n",
        "\n",
        "# Sample word to check\n",
        "word_to_check = \"Malayalam\"\n",
        "\n",
        "# Initialize an empty string to build the reversed version\n",
        "reversed_word = \"\"\n",
        "\n",
        "# Loop through each character in the word\n",
        "for character in word_to_check:\n",
        "    # Add the current character to the start of the reversed string\n",
        "    reversed_word = character + reversed_word\n",
        "\n",
        "# Print the reversed word\n",
        "print(reversed_word)\n",
        "\n",
        "# Check if the reversed word matches the original word\n",
        "if reversed_word.lower() == word_to_check.lower():\n",
        "    print(\"Hurray, it's a Palindrome!!\")\n",
        "else:\n",
        "    print(\"Sorry, it isn't a Palindrome\")\n"
      ],
      "metadata": {
        "colab": {
          "base_uri": "https://localhost:8080/"
        },
        "id": "NiUq6nlYADLY",
        "outputId": "2b10f6b9-d63e-4e6d-b3c5-f402f9f5d4f3"
      },
      "execution_count": null,
      "outputs": [
        {
          "output_type": "stream",
          "name": "stdout",
          "text": [
            "malayalaM\n",
            "Hurray, it's a Palindrome!!\n"
          ]
        }
      ]
    },
    {
      "cell_type": "code",
      "source": [
        "# Q4. Write a code to check if two given strings are anagrams of each other.\n",
        "\n",
        "# Sample strings to check\n",
        "string1 = \"Listen\"\n",
        "string2 = \"Silence\"\n",
        "\n",
        "# Check if sorted characters of both strings (in lowercase) are the same\n",
        "if sorted(string1.lower()) == sorted(string2.lower()):\n",
        "    print(\"Yes, the provided strings are anagrams of each other\")\n",
        "else:\n",
        "    print(\"Sorry, the provided strings are not anagrams of each other\")\n"
      ],
      "metadata": {
        "colab": {
          "base_uri": "https://localhost:8080/"
        },
        "id": "Y9_wAE6rAvBv",
        "outputId": "38b4e583-cc90-46bb-8fd4-36ab51653275"
      },
      "execution_count": null,
      "outputs": [
        {
          "output_type": "stream",
          "name": "stdout",
          "text": [
            "Sorry, the provided strings are not anagrams of each other\n"
          ]
        }
      ]
    },
    {
      "cell_type": "code",
      "source": [
        "# Q5. Write a code to find all occurrences of a given substring within another string.\n",
        "\n",
        "# Main string to search within\n",
        "main_string = \"This is a bottle, it is a glass bottle and it is my bottle.\"\n",
        "\n",
        "# Substring to find\n",
        "substring = \"bottle\"\n",
        "\n",
        "# List to store the starting indices of each occurrence of the substring\n",
        "occurrences = []\n",
        "\n",
        "# Iterate through the main string\n",
        "for i in range(len(main_string)):\n",
        "    # Check if the substring matches the slice of the main string (case-insensitive)\n",
        "    if main_string[i:i + len(substring)].lower() == substring:\n",
        "        # Add the starting index to the list\n",
        "        occurrences.append(i)\n",
        "\n",
        "# Print the list of starting indices\n",
        "print(\"Occurrences of the substring:\", occurrences)\n"
      ],
      "metadata": {
        "colab": {
          "base_uri": "https://localhost:8080/"
        },
        "id": "6GJR4TFCBlQW",
        "outputId": "72b8c6d5-4076-410e-cadf-d64ec0a64b44"
      },
      "execution_count": null,
      "outputs": [
        {
          "output_type": "stream",
          "name": "stdout",
          "text": [
            "Occurrences of the substring: [10, 32, 52]\n"
          ]
        }
      ]
    },
    {
      "cell_type": "code",
      "source": [
        "# Q7. Write a code to determine if a string has all unique characters.\n",
        "\n",
        "# Sample sentence to check\n",
        "sentence = \"Write a function which takes a sentence\"\n",
        "\n",
        "# Dictionary to store information about each word\n",
        "result = {}\n",
        "\n",
        "# Split the sentence into words\n",
        "words = sentence.split()\n",
        "\n",
        "# Iterate through each word in the sentence\n",
        "for word in words:\n",
        "    # Create a dictionary with the length of the word and the number of unique characters\n",
        "    word_info = {\n",
        "        'length': len(word),\n",
        "        'unique_chars': len(set(word))\n",
        "    }\n",
        "    # Add the word and its information to the result dictionary\n",
        "    result[word] = word_info\n",
        "\n",
        "# Print the result dictionary\n",
        "print(result)\n"
      ],
      "metadata": {
        "colab": {
          "base_uri": "https://localhost:8080/"
        },
        "id": "IvMf3jEBCqGw",
        "outputId": "e24d035b-5dba-40b1-a6b3-e7dabb0d80d7"
      },
      "execution_count": null,
      "outputs": [
        {
          "output_type": "stream",
          "name": "stdout",
          "text": [
            "{'Write': {'length': 5, 'unique_chars': 5}, 'a': {'length': 1, 'unique_chars': 1}, 'function': {'length': 8, 'unique_chars': 7}, 'which': {'length': 5, 'unique_chars': 4}, 'takes': {'length': 5, 'unique_chars': 5}, 'sentence': {'length': 8, 'unique_chars': 5}}\n"
          ]
        }
      ]
    },
    {
      "cell_type": "code",
      "source": [
        "# Q8. Write a code to convert a given string to uppercase or lowercase.\n",
        "\n",
        "# Sample string to convert\n",
        "sample_string = \"Jurassic park\"\n",
        "\n",
        "# Convert the string to uppercase\n",
        "uppercase_string = sample_string.upper()\n",
        "\n",
        "# Convert the string to lowercase\n",
        "lowercase_string = sample_string.lower()\n",
        "\n",
        "# Print the results\n",
        "print(\"Original string:\", sample_string)\n",
        "print(\"Uppercase string:\", uppercase_string)\n",
        "print(\"Lowercase string:\", lowercase_string)\n"
      ],
      "metadata": {
        "colab": {
          "base_uri": "https://localhost:8080/"
        },
        "id": "DMAy1_e-DDyd",
        "outputId": "7aa62c54-1866-465c-caed-7e2cee3c52c7"
      },
      "execution_count": null,
      "outputs": [
        {
          "output_type": "stream",
          "name": "stdout",
          "text": [
            "Original string: Jurassic park\n",
            "Uppercase string: JURASSIC PARK\n",
            "Lowercase string: jurassic park\n"
          ]
        }
      ]
    },
    {
      "cell_type": "code",
      "source": [
        "# Q9. Write a code to count the number of words in a string.\n",
        "\n",
        "# Sample string to count words in\n",
        "sample_string = \"This is a sample string to count the number of words.\"\n",
        "\n",
        "# Split the string into words using the split() method\n",
        "words = sample_string.split()\n",
        "\n",
        "# Count the number of words\n",
        "word_count = len(words)\n",
        "\n",
        "# Print the result\n",
        "print(\"Number of words in the string:\", word_count)\n"
      ],
      "metadata": {
        "colab": {
          "base_uri": "https://localhost:8080/"
        },
        "id": "rWNl0raRDiwn",
        "outputId": "cc04960f-e8bc-4d5c-dc34-13efd9115778"
      },
      "execution_count": null,
      "outputs": [
        {
          "output_type": "stream",
          "name": "stdout",
          "text": [
            "Number of words in the string: 11\n"
          ]
        }
      ]
    },
    {
      "cell_type": "code",
      "source": [
        "# Q10. Write a code to concatenate two strings without using the + operator.\n",
        "\n",
        "# Sample strings to concatenate\n",
        "string1 = \"Barb\"\n",
        "string2 = \"enheimer\"\n",
        "\n",
        "# Use the join() method to concatenate the strings\n",
        "concatenated_string = \"\".join([string1, string2])\n",
        "\n",
        "# Print the result\n",
        "print(\"Concatenated string:\", concatenated_string)\n"
      ],
      "metadata": {
        "colab": {
          "base_uri": "https://localhost:8080/"
        },
        "id": "TIM6_G_QEJ4y",
        "outputId": "da5b63ab-991b-4224-fb24-13ff29250314"
      },
      "execution_count": null,
      "outputs": [
        {
          "output_type": "stream",
          "name": "stdout",
          "text": [
            "Concatenated string: Barbenheimer\n"
          ]
        }
      ]
    },
    {
      "cell_type": "code",
      "source": [
        "# Q11. Write a code to remove all occurrences of a specific element from a list.\n",
        "\n",
        "# Sample list\n",
        "some_list = [1, 5, 7, 4, 5, 42, 4, 5, 42, 6, 9, 2, 5, 4, 3]\n",
        "\n",
        "# Element to be removed\n",
        "removed_element = 5\n",
        "\n",
        "# Create a new list without the specified element\n",
        "filtered_list = [i for i in some_list if i != removed_element]\n",
        "\n",
        "# Print the result\n",
        "print(\"List after removing all occurrences of\", removed_element, \":\", filtered_list)\n"
      ],
      "metadata": {
        "colab": {
          "base_uri": "https://localhost:8080/"
        },
        "id": "uu-OAbdDEW-7",
        "outputId": "b12ffd80-38a2-4d67-e9b8-691028336d6f"
      },
      "execution_count": null,
      "outputs": [
        {
          "output_type": "stream",
          "name": "stdout",
          "text": [
            "List after removing all occurrences of 5 : [1, 7, 4, 42, 4, 42, 6, 9, 2, 4, 3]\n"
          ]
        }
      ]
    },
    {
      "cell_type": "code",
      "source": [
        "# Q12. Implement a code to find the second largest number in a given list of integers.\n",
        "\n",
        "def find_second_largest(numbers):\n",
        "    # Remove duplicates to avoid issues with repeated largest values\n",
        "    unique_numbers = list(set(numbers))\n",
        "\n",
        "    # Sort the unique numbers in descending order\n",
        "    unique_numbers.sort(reverse=True)\n",
        "\n",
        "    # The second largest number will be the second item in the sorted list\n",
        "    if len(unique_numbers) < 2:\n",
        "        return None  # Return None if there isn't a second largest number\n",
        "    return unique_numbers[1]\n",
        "\n",
        "numbers = [10, 20, 4, 45, 99, 99]\n",
        "second_largest = find_second_largest(numbers)\n",
        "if second_largest is not None:\n",
        "    print(f\"The second largest number is: {second_largest}\")\n",
        "else:\n",
        "    print(\"There is no second largest number.\")\n"
      ],
      "metadata": {
        "colab": {
          "base_uri": "https://localhost:8080/"
        },
        "id": "E9P2AUL-E5QP",
        "outputId": "9f717fbc-0bb8-4a10-d0d4-a3bb1e6f9c05"
      },
      "execution_count": null,
      "outputs": [
        {
          "output_type": "stream",
          "name": "stdout",
          "text": [
            "The second largest number is: 45\n"
          ]
        }
      ]
    },
    {
      "cell_type": "code",
      "source": [
        "# Q13. Create a code to count the occurrences of each element in a list and return a dictionary with elements as keys and their counts as values.\n",
        "\n",
        "# Sample list\n",
        "elements_list = [5, 5, 47, 5, 2, 7, 3, \"Hello\", 41, 8, 2, 4, 2, 4, 9, \"Hello\"]\n",
        "\n",
        "# Dictionary to store the count of each element\n",
        "element_count = {}\n",
        "\n",
        "# Iterate through each element in the list\n",
        "for element in elements_list:\n",
        "    # If the element is already in the dictionary, increment its count\n",
        "    if element in element_count:\n",
        "        element_count[element] += 1\n",
        "    # If the element is not in the dictionary, add it with a count of 1\n",
        "    else:\n",
        "        element_count[element] = 1\n",
        "\n",
        "# Print the result dictionary\n",
        "print(element_count)\n"
      ],
      "metadata": {
        "colab": {
          "base_uri": "https://localhost:8080/"
        },
        "id": "7s740MyeFGIC",
        "outputId": "b4768a0b-c229-491f-b99f-8a1ac732b6e0"
      },
      "execution_count": null,
      "outputs": [
        {
          "output_type": "stream",
          "name": "stdout",
          "text": [
            "{5: 3, 47: 1, 2: 3, 7: 1, 3: 1, 'Hello': 2, 41: 1, 8: 1, 4: 2, 9: 1}\n"
          ]
        }
      ]
    },
    {
      "cell_type": "code",
      "source": [
        "# Q14. Write a code to reverse a list in-place without using any built-in reverse functions.\n",
        "\n",
        "original_list = [5, 5, 47, 2, 4, 9]\n",
        "reversed_list = []\n",
        "\n",
        "# Reversing the list by inserting each element at the start of the new list\n",
        "for item in original_list:\n",
        "    reversed_list.insert(0, item)\n",
        "\n",
        "# Displaying the original and reversed lists\n",
        "print(\"Original List:\", original_list)\n",
        "print(\"Reversed List:\", reversed_list)\n"
      ],
      "metadata": {
        "colab": {
          "base_uri": "https://localhost:8080/"
        },
        "id": "tjV1syYcFXAu",
        "outputId": "8307435e-59a1-4902-b228-732e9decf006"
      },
      "execution_count": null,
      "outputs": [
        {
          "output_type": "stream",
          "name": "stdout",
          "text": [
            "Original List: [5, 5, 47, 2, 4, 9]\n",
            "Reversed List: [9, 4, 2, 47, 5, 5]\n"
          ]
        }
      ]
    },
    {
      "cell_type": "code",
      "source": [
        "# Q15. Implement a code to find and remove duplicates from a list while preserving the original order of elements.\n",
        "\n",
        "# Sample list with duplicates\n",
        "original_list = [5, 5, 47, 5, 2, 7, 3, 41, 8, 2, 4, 2, 4, 9]\n",
        "\n",
        "# List to store unique elements while preserving order\n",
        "ordered_unique_list = []\n",
        "\n",
        "# Iterate through each element in the original list\n",
        "for element in original_list:\n",
        "    # If the element is not already in the unique list, add it\n",
        "    if element not in ordered_unique_list:\n",
        "        ordered_unique_list.append(element)\n",
        "\n",
        "# Print the list with duplicates removed\n",
        "print(\"List after removing duplicates:\", ordered_unique_list)"
      ],
      "metadata": {
        "colab": {
          "base_uri": "https://localhost:8080/"
        },
        "id": "1qxRkuftFjw4",
        "outputId": "7cddf4c4-e416-40d5-ddb4-53d6170e5b19"
      },
      "execution_count": null,
      "outputs": [
        {
          "output_type": "stream",
          "name": "stdout",
          "text": [
            "List after removing duplicates: [5, 47, 2, 7, 3, 41, 8, 4, 9]\n"
          ]
        }
      ]
    },
    {
      "cell_type": "code",
      "source": [
        "# Q16. Create a code to check if a given list is sorted (either in ascending or descending order) or not.\n",
        "\n",
        "# Sample list to check\n",
        "sample_list = [6, 5, 8, 2, 1, 4, 5, 2]\n",
        "\n",
        "# Check if the list is sorted in ascending order\n",
        "is_ascending = all(sample_list[i] <= sample_list[i + 1] for i in range(len(sample_list) - 1))\n",
        "\n",
        "# Check if the list is sorted in descending order\n",
        "is_descending = all(sample_list[i] >= sample_list[i + 1] for i in range(len(sample_list) - 1))\n",
        "\n",
        "# Determine the order of the list\n",
        "if is_ascending:\n",
        "    print(\"The given list is in ascending order.\")\n",
        "elif is_descending:\n",
        "    print(\"The given list is in descending order.\")\n",
        "else:\n",
        "    print(\"The list is neither in ascending nor descending order.\")\n"
      ],
      "metadata": {
        "colab": {
          "base_uri": "https://localhost:8080/"
        },
        "id": "_EFZGiWsHfXm",
        "outputId": "8839e9e2-b4e1-43cc-b820-a229797f6668"
      },
      "execution_count": null,
      "outputs": [
        {
          "output_type": "stream",
          "name": "stdout",
          "text": [
            "The list is neither in ascending nor descending order.\n"
          ]
        }
      ]
    },
    {
      "cell_type": "code",
      "source": [
        "# Q17. Write a code to merge two sorted lists into a single sorted list\n",
        "def merge_sorted_lists(list1, list2):\n",
        "    merged_list = []\n",
        "    i, j = 0, 0\n",
        "    while i < len(list1) and j < len(list2):\n",
        "        if list1[i] < list2[j]:\n",
        "            merged_list.append(list1[i])\n",
        "            i += 1\n",
        "        else:\n",
        "            merged_list.append(list2[j])\n",
        "            j += 1\n",
        "    merged_list.extend(list1[i:])\n",
        "    merged_list.extend(list2[j:])\n",
        "    return merged_list\n",
        "\n",
        "list1 = [1, 3, 5, 7]\n",
        "list2 = [2, 4, 6, 8]\n",
        "print(\"Merged sorted list:\", merge_sorted_lists(list1, list2))\n"
      ],
      "metadata": {
        "colab": {
          "base_uri": "https://localhost:8080/"
        },
        "id": "RAsvUW4nHk13",
        "outputId": "24a1635c-0711-4aa5-dac1-350911f9697e"
      },
      "execution_count": null,
      "outputs": [
        {
          "output_type": "stream",
          "name": "stdout",
          "text": [
            "Merged sorted list: [1, 2, 3, 4, 5, 6, 7, 8]\n"
          ]
        }
      ]
    },
    {
      "cell_type": "code",
      "source": [
        "# Q18. Implement a code to find the intersection of two given lists\n",
        "def intersection_of_lists(list1, list2):\n",
        "    return list(set(list1) & set(list2))\n",
        "\n",
        "list1 = [1, 2, 3, 4, 5]\n",
        "list2 = [4, 5, 6, 7, 8]\n",
        "print(\"Intersection of lists:\", intersection_of_lists(list1, list2))\n"
      ],
      "metadata": {
        "colab": {
          "base_uri": "https://localhost:8080/"
        },
        "id": "9GDfEwl3H5_V",
        "outputId": "b331292c-4089-4710-a470-e0d2abdb8c56"
      },
      "execution_count": null,
      "outputs": [
        {
          "output_type": "stream",
          "name": "stdout",
          "text": [
            "Intersection of lists: [4, 5]\n"
          ]
        }
      ]
    },
    {
      "cell_type": "code",
      "source": [
        "# Q19. Create a code to find the union of two lists without duplicates\n",
        "def union_of_lists(list1, list2):\n",
        "    return list(set(list1) | set(list2))\n",
        "\n",
        "list1 = [1, 2, 3, 4, 5]\n",
        "list2 = [4, 5, 6, 7, 8]\n",
        "print(\"Union of lists without duplicates:\", union_of_lists(list1, list2))\n"
      ],
      "metadata": {
        "colab": {
          "base_uri": "https://localhost:8080/"
        },
        "id": "vlfdN5gGIA8k",
        "outputId": "baa87874-eaf9-44cf-aab1-928638f8fc96"
      },
      "execution_count": null,
      "outputs": [
        {
          "output_type": "stream",
          "name": "stdout",
          "text": [
            "Union of lists without duplicates: [1, 2, 3, 4, 5, 6, 7, 8]\n"
          ]
        }
      ]
    },
    {
      "cell_type": "code",
      "source": [
        "# Q21. Write a code that takes two tuples as input and returns a new tuple containing elements that are common to both input tuples\n",
        "def common_elements_tuple(tuple1, tuple2):\n",
        "    return tuple(set(tuple1) & set(tuple2))\n",
        "\n",
        "tuple1 = (1, 2, 3, 4, 5)\n",
        "tuple2 = (4, 5, 6, 7, 8)\n",
        "print(\"Common elements in tuples:\", common_elements_tuple(tuple1, tuple2))\n"
      ],
      "metadata": {
        "colab": {
          "base_uri": "https://localhost:8080/"
        },
        "id": "KO7o_jHmIFnN",
        "outputId": "56de1e84-4eea-48bb-9546-069f9388d695"
      },
      "execution_count": null,
      "outputs": [
        {
          "output_type": "stream",
          "name": "stdout",
          "text": [
            "Common elements in tuples: (4, 5)\n"
          ]
        }
      ]
    },
    {
      "cell_type": "code",
      "source": [
        "# Q22. Create a code that prompts the user to enter two sets of integers separated by commas. Then, print the intersection of these two sets.\n",
        "\n",
        "# Prompt the user to enter the first set of integers\n",
        "set1 = input(\"Enter the 1st set of integers, separated by commas: \")\n",
        "\n",
        "# Prompt the user to enter the second set of integers\n",
        "set2 = input(\"Enter the 2nd set of integers, separated by commas: \")\n",
        "\n",
        "# Convert the input strings to lists of integers\n",
        "int_set1 = [int(i) for i in set1.split(\",\")]\n",
        "int_set2 = [int(j) for j in set2.split(\",\")]\n",
        "\n",
        "# Convert the lists to sets\n",
        "set1_set = set(int_set1)\n",
        "set2_set = set(int_set2)\n",
        "\n",
        "# Find the intersection of the two sets\n",
        "intersection_set = set1_set & set2_set\n",
        "\n",
        "# Print the intersection set\n",
        "print(\"Intersection of the two sets:\", intersection_set)\n"
      ],
      "metadata": {
        "id": "NGIQ_z9NIGSN",
        "colab": {
          "base_uri": "https://localhost:8080/"
        },
        "outputId": "8ebf2578-7734-4dfe-9529-d516bbfbba9b"
      },
      "execution_count": 2,
      "outputs": [
        {
          "output_type": "stream",
          "name": "stdout",
          "text": [
            "Enter the 1st set of integers, separated by commas: 5,8,66,7,1,2,6\n",
            "Enter the 2nd set of integers, separated by commas: 72,6,99,5,3,4,86\n",
            "Intersection of the two sets: {5, 6}\n"
          ]
        }
      ]
    },
    {
      "cell_type": "code",
      "source": [
        "# Q23. Write a code to concatenate two tuples. The function should take two tuples as input and return a new tuple containing elements from both input tuples.\n",
        "\n",
        "# Prompt the user to enter the first set of integers, separated by commas\n",
        "t1 = input(\"Enter the 1st set of integers, separated by commas: \")\n",
        "\n",
        "# Prompt the user to enter the second set of integers, separated by commas\n",
        "t2 = input(\"Enter the 2nd set of integers, separated by commas: \")\n",
        "\n",
        "# Convert the input strings to lists of integers\n",
        "int_t1 = [int(i) for i in t1.split(\",\")]\n",
        "int_t2 = [int(j) for j in t2.split(\",\")]\n",
        "\n",
        "# Convert the lists to tuples\n",
        "tuple1 = tuple(int_t1)\n",
        "tuple2 = tuple(int_t2)\n",
        "\n",
        "# Concatenate the two tuples\n",
        "concatenated_tuple = tuple1 + tuple2\n",
        "\n",
        "# Print the concatenated tuple\n",
        "print(\"Concatenated tuple:\", concatenated_tuple)\n"
      ],
      "metadata": {
        "id": "VTl2VTkjIj11",
        "colab": {
          "base_uri": "https://localhost:8080/"
        },
        "outputId": "a1a5e898-2305-47cc-ec04-38ac3ca8b293"
      },
      "execution_count": 3,
      "outputs": [
        {
          "output_type": "stream",
          "name": "stdout",
          "text": [
            "Enter the 1st set of integers, separated by commas: 8,4,2,6,9,3,5,7,1\n",
            "Enter the 2nd set of integers, separated by commas: 9,5,3,6,4,7,5,2,6,3,5\n",
            "Concatenated tuple: (8, 4, 2, 6, 9, 3, 5, 7, 1, 9, 5, 3, 6, 4, 7, 5, 2, 6, 3, 5)\n"
          ]
        }
      ]
    },
    {
      "cell_type": "code",
      "source": [
        "# Q24. Develop a code that prompts the user to input two sets of strings. Then print the elements that are present in the first set but not in the second set.\n",
        "\n",
        "# Prompt the user to input the first set of strings\n",
        "set1 = set(input(\"Enter the first set of strings (separated by spaces): \").split())\n",
        "\n",
        "# Prompt the user to input the second set of strings\n",
        "set2 = set(input(\"Enter the second set of strings (separated by spaces): \").split())\n",
        "\n",
        "# Find elements present in the first set but not in the second set\n",
        "difference = set1 - set2\n",
        "\n",
        "# Print the result\n",
        "print(\"Elements present in the first set but not in the second set:\")\n",
        "for element in difference:\n",
        "    print(element)\n"
      ],
      "metadata": {
        "id": "tKYSbEYkIsBA",
        "colab": {
          "base_uri": "https://localhost:8080/"
        },
        "outputId": "040459ea-f194-4832-d354-6734e3af11ed"
      },
      "execution_count": 6,
      "outputs": [
        {
          "output_type": "stream",
          "name": "stdout",
          "text": [
            "Enter the first set of strings (separated by spaces): apple orange banana \n",
            "Enter the second set of strings (separated by spaces): banana grape\n",
            "Elements present in the first set but not in the second set:\n",
            "apple\n",
            "orange\n"
          ]
        }
      ]
    },
    {
      "cell_type": "code",
      "source": [
        "# Q25. Create a code that takes a tuple and two integers as input. The function should return a new tuple containing elements from the original tuple within the specified range of indices.\n",
        "\n",
        "# Prompt the user for input\n",
        "t1 = input(\"Enter the set of integers (separated by commas): \")  # Gives a str output\n",
        "int1 = input(\"Enter the start index: \")\n",
        "int2 = input(\"Enter the end index: \")\n",
        "\n",
        "# Convert inputs to appropriate types\n",
        "int_t1 = [int(i) for i in t1.split(\",\")]  # Convert list of strs to list of ints\n",
        "start = int(int1)\n",
        "end = int(int2)\n",
        "\n",
        "# Convert list to tuple\n",
        "tuple_init_t1 = tuple(int_t1)\n",
        "\n",
        "# Check if indices are valid\n",
        "if start < 0 or end > len(tuple_init_t1) or start > end:\n",
        "    print(\"Invalid range of indices\")\n",
        "else:\n",
        "    # Slice the tuple\n",
        "    tuple_requested = tuple_init_t1[start:end]\n",
        "    print(\"Requested tuple slice:\", tuple_requested)\n"
      ],
      "metadata": {
        "id": "Jl1vFnqvI2GJ",
        "colab": {
          "base_uri": "https://localhost:8080/"
        },
        "outputId": "9528a505-e8a6-4b02-e238-fadf63269228"
      },
      "execution_count": 7,
      "outputs": [
        {
          "output_type": "stream",
          "name": "stdout",
          "text": [
            "Enter the set of integers (separated by commas): 1, 2, 3, 4, 5, 6, 7, 8, 9\n",
            "Enter the start index: 3\n",
            "Enter the end index: 6\n",
            "Requested tuple slice: (4, 5, 6)\n"
          ]
        }
      ]
    },
    {
      "cell_type": "code",
      "source": [
        "# Q26. Write a code that prompts the user to input two sets of characters. Then print the union of these two sets.\n",
        "\n",
        "# Prompt the user to input the first set of characters\n",
        "set1 = set(input(\"Enter the first set of characters (separated by spaces): \").split())\n",
        "\n",
        "# Prompt the user to input the second set of characters\n",
        "set2 = set(input(\"Enter the second set of characters (separated by spaces): \").split())\n",
        "\n",
        "# Find the union of the two sets\n",
        "union_set = set1 | set2\n",
        "\n",
        "# Print the result\n",
        "print(\"Union of the two sets:\", union_set)\n"
      ],
      "metadata": {
        "id": "TdHxOcwCJAEp",
        "colab": {
          "base_uri": "https://localhost:8080/"
        },
        "outputId": "c9194458-36aa-4262-e1fc-f48b0e840c4b"
      },
      "execution_count": 8,
      "outputs": [
        {
          "output_type": "stream",
          "name": "stdout",
          "text": [
            "Enter the first set of characters (separated by spaces): a b c d k q l\n",
            "Enter the second set of characters (separated by spaces): c d e f j x\n",
            "Union of the two sets: {'j', 'l', 'a', 'x', 'f', 'b', 'q', 'e', 'k', 'c', 'd'}\n"
          ]
        }
      ]
    },
    {
      "cell_type": "code",
      "source": [
        "# Q27. Develop a code that takes a tuple of integers as input. The function should return the maximum and minimum values from the tuple using tuple unpacking.\n",
        "\n",
        "# Prompt the user for input\n",
        "t = input(\"Enter a set of integers (separated by commas): \")\n",
        "\n",
        "# Convert the input string to a list of integers\n",
        "t_list = [int(i) for i in t.split(\",\")]\n",
        "\n",
        "# Convert the list to a tuple\n",
        "input_tuple = tuple(t_list)\n",
        "\n",
        "# Find the minimum and maximum values using tuple unpacking\n",
        "min_val, max_val = min(input_tuple), max(input_tuple)\n",
        "\n",
        "# Print the results\n",
        "print(\"Minimum value:\", min_val)\n",
        "print(\"Maximum value:\", max_val)\n"
      ],
      "metadata": {
        "id": "4-8z3qaiJK9L",
        "colab": {
          "base_uri": "https://localhost:8080/"
        },
        "outputId": "0c1a72f9-e4dc-4263-dd45-1b42f80aedd6"
      },
      "execution_count": 9,
      "outputs": [
        {
          "output_type": "stream",
          "name": "stdout",
          "text": [
            "Enter a set of integers (separated by commas): 10, 3, 5, 7, 2, 8, 6\n",
            "Minimum value: 2\n",
            "Maximum value: 10\n"
          ]
        }
      ]
    },
    {
      "cell_type": "code",
      "source": [
        "# Q28: Create a code that defines two sets of integers. Then print the union, intersection, and difference of these two sets.\n",
        "\n",
        "def set_operations(set1, set2):\n",
        "    # Calculate union, intersection, and difference\n",
        "    union_set = set1 | set2\n",
        "    intersection_set = set1 & set2\n",
        "    difference_set = set1 - set2\n",
        "\n",
        "    # Print the results\n",
        "    print(\"Union:\", union_set)\n",
        "    print(\"Intersection:\", intersection_set)\n",
        "    print(\"Difference:\", difference_set)\n",
        "\n",
        "# Define two sets of integers\n",
        "set1 = {1, 2, 3, 4, 5}\n",
        "set2 = {4, 5, 6, 7, 8}\n",
        "\n",
        "# Perform set operations\n",
        "set_operations(set1, set2)\n"
      ],
      "metadata": {
        "colab": {
          "base_uri": "https://localhost:8080/"
        },
        "id": "bsyCnK_6JQqN",
        "outputId": "5996cac1-3b86-42da-9f27-c5dacc382092"
      },
      "execution_count": null,
      "outputs": [
        {
          "output_type": "stream",
          "name": "stdout",
          "text": [
            "Union: {1, 2, 3, 4, 5, 6, 7, 8}\n",
            "Intersection: {4, 5}\n",
            "Difference: {1, 2, 3}\n"
          ]
        }
      ]
    },
    {
      "cell_type": "code",
      "source": [
        "# Q29: Write a code that takes a tuple and an element as input. The function should return the count of occurrences of the given element in the tuple.\n",
        "\n",
        "def count_occurrences(tup, element):\n",
        "    # Count the occurrences of the element in the tuple\n",
        "    count = tup.count(element)\n",
        "    return count\n",
        "\n",
        "# Define the tuple and the element to count\n",
        "tuple_numbers = (11, 2, 5, 6, 3, 5, 6, 5, 6, 2, 4, 1, 5, 8, 7, 9, 3)\n",
        "x = 3\n",
        "\n",
        "# Get the count of occurrences\n",
        "count = count_occurrences(tuple_numbers, x)\n",
        "\n",
        "# Print the result\n",
        "print(f\"The element {x} occurs {count} times in the tuple.\")\n"
      ],
      "metadata": {
        "colab": {
          "base_uri": "https://localhost:8080/"
        },
        "id": "cn-gINAHKTiB",
        "outputId": "f641f932-0b81-4ebb-d402-fdd9fae769fe"
      },
      "execution_count": null,
      "outputs": [
        {
          "output_type": "stream",
          "name": "stdout",
          "text": [
            "The element 3 occurs 2 times in the tuple.\n"
          ]
        }
      ]
    },
    {
      "cell_type": "code",
      "source": [
        "# Q30: Develop a code that prompts the user to input two sets of strings. Then print the symmetric difference of these two sets.\n",
        "\n",
        "def symmetric_difference(set1, set2):\n",
        "    # Calculate the symmetric difference\n",
        "    return set1 ^ set2  # ^ is the symmetric difference operator in Python\n",
        "\n",
        "# Prompt the user to input two sets of strings\n",
        "set1 = set(input(\"Enter the first set of strings (separated by spaces): \").split())\n",
        "set2 = set(input(\"Enter the second set of strings (separated by spaces): \").split())\n",
        "\n",
        "# Calculate the symmetric difference\n",
        "sym_diff = symmetric_difference(set1, set2)\n",
        "\n",
        "# Print the result\n",
        "print(\"Symmetric difference:\", sym_diff)\n"
      ],
      "metadata": {
        "colab": {
          "base_uri": "https://localhost:8080/"
        },
        "id": "ED3fzbauKfCa",
        "outputId": "81d86532-81cd-4f63-f31a-781de25dfb83"
      },
      "execution_count": null,
      "outputs": [
        {
          "output_type": "stream",
          "name": "stdout",
          "text": [
            "Enter the first set of strings (separated by spaces): jake lake drake\n",
            "Enter the second set of strings (separated by spaces): salt malt cobalt\n",
            "Symmetric difference: {'drake', 'lake', 'malt', 'jake', 'salt', 'cobalt'}\n"
          ]
        }
      ]
    },
    {
      "cell_type": "code",
      "source": [
        "# Q31: Write a code that takes a list of words as input and returns a dictionary where the keys are unique words and the values are the frequencies of those words in the input list.\n",
        "\n",
        "def word_frequencies(word_list):\n",
        "    # Initialize an empty dictionary to store word frequencies\n",
        "    frequency_dict = {}\n",
        "\n",
        "    # Iterate over each word in the list\n",
        "    for word in word_list:\n",
        "        # If the word is already in the dictionary, increment its count\n",
        "        if word in frequency_dict:\n",
        "            frequency_dict[word] += 1\n",
        "        # If the word is not in the dictionary, add it with a count of 1\n",
        "        else:\n",
        "            frequency_dict[word] = 1\n",
        "\n",
        "    return frequency_dict\n",
        "\n",
        "list_of_words = [\"Jake\", \"Jake\", \"Bruce\", \"Bruce\", \"Blake\", \"James\"]\n",
        "frequencies = word_frequencies(list_of_words)\n",
        "print(frequencies)\n"
      ],
      "metadata": {
        "colab": {
          "base_uri": "https://localhost:8080/"
        },
        "id": "szKnvIqTKnrl",
        "outputId": "f75eda3e-f315-490b-d272-ab47e0d40e27"
      },
      "execution_count": null,
      "outputs": [
        {
          "output_type": "stream",
          "name": "stdout",
          "text": [
            "{'Jake': 2, 'Bruce': 2, 'Blake': 1, 'James': 1}\n"
          ]
        }
      ]
    },
    {
      "cell_type": "code",
      "source": [
        "# Q32: Write a code that takes two dictionaries as input and merges them into a single dictionary. If there are common keys, the values should be added together.\n",
        "\n",
        "# Define the dictionaries\n",
        "dict1 = {'a': 10, 'b': 20, 'c': 30}\n",
        "dict2 = {'b': 5, 'c': 15, 'd': 25}\n",
        "\n",
        "# Create a copy of the first dictionary to avoid modifying it directly\n",
        "merged_dict = dict1.copy()\n",
        "\n",
        "# Iterate over the second dictionary\n",
        "for key, value in dict2.items():\n",
        "    # If the key is already in the merged dictionary, add the values\n",
        "    if key in merged_dict:\n",
        "        merged_dict[key] += value\n",
        "    # If the key is not in the merged dictionary, add the key-value pair\n",
        "    else:\n",
        "        merged_dict[key] = value\n",
        "\n",
        "# Print the merged dictionary\n",
        "print(merged_dict)\n"
      ],
      "metadata": {
        "colab": {
          "base_uri": "https://localhost:8080/"
        },
        "id": "AXzHtsZLLTHj",
        "outputId": "bf7a09ad-d6a3-4287-9015-637f1c559887"
      },
      "execution_count": null,
      "outputs": [
        {
          "output_type": "stream",
          "name": "stdout",
          "text": [
            "{'a': 10, 'b': 25, 'c': 45, 'd': 25}\n"
          ]
        }
      ]
    },
    {
      "cell_type": "code",
      "source": [
        "# Q34: Write a code that takes a dictionary as input and returns a sorted version of it based on the values. You can choose whether to sort in ascending or descending order.\n",
        "\n",
        "def sort_dict_by_values(input_dict, ascending=True):\n",
        "    # Sort the dictionary by values\n",
        "    sorted_dict = dict(sorted(input_dict.items(), key=lambda item: item[1], reverse=not ascending))\n",
        "    return sorted_dict\n",
        "\n",
        "example_dict = {'a': 3, 'b': 1, 'c': 2}\n",
        "\n",
        "# Sort in ascending order\n",
        "sorted_dict_asc = sort_dict_by_values(example_dict, ascending=True)\n",
        "print(\"Sorted dictionary (ascending):\", sorted_dict_asc)\n",
        "\n",
        "# Sort in descending order\n",
        "sorted_dict_desc = sort_dict_by_values(example_dict, ascending=False)\n",
        "print(\"Sorted dictionary (descending):\", sorted_dict_desc)\n"
      ],
      "metadata": {
        "colab": {
          "base_uri": "https://localhost:8080/"
        },
        "id": "NMDhPaVhLxRV",
        "outputId": "6d47fb8d-4ae0-4628-c5e8-ccc1b6d799a2"
      },
      "execution_count": null,
      "outputs": [
        {
          "output_type": "stream",
          "name": "stdout",
          "text": [
            "Sorted dictionary (ascending): {'b': 1, 'c': 2, 'a': 3}\n",
            "Sorted dictionary (descending): {'a': 3, 'c': 2, 'b': 1}\n"
          ]
        }
      ]
    },
    {
      "cell_type": "code",
      "source": [
        "# Q35: Write a code that inverts a dictionary by swapping keys and values. Ensure that the inverted dictionary correctly handles cases where multiple keys have the same value by storing the keys as a list in the inverted dictionary.\n",
        "\n",
        "def invert_dictionary(input_dict):\n",
        "    # Initialize an empty dictionary to store the inverted dictionary\n",
        "    inverted_dict = {}\n",
        "\n",
        "    # Iterate over each key-value pair in the input dictionary\n",
        "    for key, value in input_dict.items():\n",
        "        # If the value is already a key in the inverted dictionary, append the key to the list\n",
        "        if value in inverted_dict:\n",
        "            inverted_dict[value].append(key)\n",
        "        # If the value is not a key in the inverted dictionary, create a new list with the key\n",
        "        else:\n",
        "            inverted_dict[value] = [key]\n",
        "\n",
        "    return inverted_dict\n",
        "\n",
        "# Example usage\n",
        "merged_dict = {'a': 1, 'b': 2, 'c': 1, 'd': 3, 'e': 2}\n",
        "\n",
        "# Invert the dictionary\n",
        "inverted_dict = invert_dictionary(merged_dict)\n",
        "\n",
        "# Print the inverted dictionary\n",
        "print(inverted_dict)\n"
      ],
      "metadata": {
        "colab": {
          "base_uri": "https://localhost:8080/"
        },
        "id": "wmayPBvmL8kd",
        "outputId": "7f8bf60a-d155-416f-cf5b-84901adcd889"
      },
      "execution_count": null,
      "outputs": [
        {
          "output_type": "stream",
          "name": "stdout",
          "text": [
            "{1: ['a', 'c'], 2: ['b', 'e'], 3: ['d']}\n"
          ]
        }
      ]
    },
    {
      "cell_type": "code",
      "source": [],
      "metadata": {
        "id": "z4IzVOy9MBQ8"
      },
      "execution_count": null,
      "outputs": []
    }
  ]
}